{
 "cells": [
  {
   "cell_type": "code",
   "execution_count": 9,
   "metadata": {},
   "outputs": [
    {
     "name": "stdout",
     "output_type": "stream",
     "text": [
      "Результат: {98, 35, 15, 213, 54, 119}\n"
     ]
    }
   ],
   "source": [
    "#задание 1(вариант 1)\n",
    "\n",
    "ids = {'user1': [213, 213, 213, 15, 213], \n",
    "       'user2': [54, 54, 119, 119, 119], \n",
    "       'user3': [213, 98, 98, 35]}\n",
    "\n",
    "print('Результат:', set(sum(ids.values(), [])))"
   ]
  },
  {
   "cell_type": "code",
   "execution_count": 10,
   "metadata": {},
   "outputs": [
    {
     "name": "stdout",
     "output_type": "stream",
     "text": [
      "Результат: {98, 35, 15, 213, 54, 119}\n"
     ]
    }
   ],
   "source": [
    "#задание 1(вариант 2)\n",
    "\n",
    "ids = {'user1': [213, 213, 213, 15, 213], \n",
    "       'user2': [54, 54, 119, 119, 119], \n",
    "       'user3': [213, 98, 98, 35]}\n",
    "\n",
    "lst=ids.values()\n",
    "newlist=[]\n",
    "\n",
    "for i in lst:\n",
    "    for y in i:\n",
    "        newlist.append(y)\n",
    "print('Результат:', set(newlist))\n"
   ]
  },
  {
   "cell_type": "code",
   "execution_count": 12,
   "metadata": {},
   "outputs": [
    {
     "name": "stdout",
     "output_type": "stream",
     "text": [
      "Поисковых запросов, содержащих 3 слов(а): 57.14%\n",
      "Поисковых запросов, содержащих 2 слов(а): 42.86%\n"
     ]
    }
   ],
   "source": [
    "#задание 2\n",
    "\n",
    "queries = [\n",
    "    'смотреть сериалы онлайн',\n",
    "    'новости спорта',\n",
    "    'афиша кино',\n",
    "    'курс доллара',\n",
    "    'сериалы этим летом',\n",
    "    'курс по питону',\n",
    "    'сериалы про спорт',\n",
    "]\n",
    "\n",
    "storage = {}\n",
    "\n",
    "for query in queries:\n",
    "    words = query.split()\n",
    "\n",
    "    if len(words) in storage.keys():\n",
    "        storage[len(words)] += 1\n",
    "    else:\n",
    "        storage.update({\n",
    "            len(words): 1\n",
    "        })\n",
    "\n",
    "for key, value in storage.items():\n",
    "    percentage = round((value / len(queries)) * 100, 2)\n",
    "    print(f'Поисковых запросов, содержащих {key} слов(а): {percentage}%')\n",
    "    \n",
    "    "
   ]
  },
  {
   "cell_type": "code",
   "execution_count": 43,
   "metadata": {},
   "outputs": [
    {
     "name": "stdout",
     "output_type": "stream",
     "text": [
      "Результат:\n"
     ]
    },
    {
     "data": {
      "text/plain": [
       "{'vk': {'revenue': 103, 'cost': 98, 'ROI': 5.1},\n",
       " 'yandex': {'revenue': 179, 'cost': 153, 'ROI': 16.99},\n",
       " 'facebook': {'revenue': 103, 'cost': 110, 'ROI': -6.36},\n",
       " 'adwords': {'revenue': 35, 'cost': 34, 'ROI': 2.94},\n",
       " 'twitter': {'revenue': 11, 'cost': 24, 'ROI': -54.17}}"
      ]
     },
     "execution_count": 43,
     "metadata": {},
     "output_type": "execute_result"
    }
   ],
   "source": [
    "#задание 3\n",
    "\n",
    "results = {\n",
    "    'vk': {'revenue': 103, 'cost': 98},\n",
    "    'yandex': {'revenue': 179, 'cost': 153},\n",
    "    'facebook': {'revenue': 103, 'cost': 110},\n",
    "    'adwords': {'revenue': 35, 'cost': 34},\n",
    "    'twitter': {'revenue': 11, 'cost': 24},\n",
    "}\n",
    "\n",
    "for site_stat_dict in results.values():\n",
    "    (site_stat_dict['revenue'])\n",
    "    (site_stat_dict['cost']) \n",
    "    \n",
    "    site_stat_dict['ROI'] = round((site_stat_dict['revenue']/site_stat_dict['cost']-1)*100,2)\n",
    "    (site_stat_dict['ROI'])\n",
    "    \n",
    "print ('Результат:')\n",
    "results         "
   ]
  },
  {
   "cell_type": "code",
   "execution_count": 114,
   "metadata": {},
   "outputs": [
    {
     "name": "stdout",
     "output_type": "stream",
     "text": [
      "Результат: Максимальный объем продаж на рекламном канале: vk\n"
     ]
    }
   ],
   "source": [
    "#задание 4\n",
    "\n",
    "stats={'facebook':55, 'yandex':115, 'vk':120, 'google':99, 'email':42, 'ok':98}\n",
    "\n",
    "max_val=max(stats.items(),key=lambda x: x[1])\n",
    "\n",
    "print('Результат: Максимальный объем продаж на рекламном канале:', max_val[0])"
   ]
  }
 ],
 "metadata": {
  "kernelspec": {
   "display_name": "Python 3",
   "language": "python",
   "name": "python3"
  },
  "language_info": {
   "codemirror_mode": {
    "name": "ipython",
    "version": 3
   },
   "file_extension": ".py",
   "mimetype": "text/x-python",
   "name": "python",
   "nbconvert_exporter": "python",
   "pygments_lexer": "ipython3",
   "version": "3.8.5"
  }
 },
 "nbformat": 4,
 "nbformat_minor": 4
}
