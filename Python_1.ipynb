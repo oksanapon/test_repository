{
 "cells": [
  {
   "cell_type": "code",
   "execution_count": 52,
   "metadata": {},
   "outputs": [],
   "source": [
    "#задание1\n",
    "\n",
    "phrase_1 = 'Каждую статью проверяет редактор'\n",
    "phrase_2 = 'Журналист сбивает градус помпезности'"
   ]
  },
  {
   "cell_type": "code",
   "execution_count": 53,
   "metadata": {},
   "outputs": [
    {
     "data": {
      "text/plain": [
       "True"
      ]
     },
     "execution_count": 53,
     "metadata": {},
     "output_type": "execute_result"
    }
   ],
   "source": [
    "len('Каждую статью проверяет редактор')<len ('Журналист сбивает градус помпезности')"
   ]
  },
  {
   "cell_type": "code",
   "execution_count": 54,
   "metadata": {
    "scrolled": true
   },
   "outputs": [
    {
     "name": "stdout",
     "output_type": "stream",
     "text": [
      "Фраза 2 длиннее фразы 1\n"
     ]
    }
   ],
   "source": [
    "if len('Каждую статью проверяет редактор')<len ('Журналист сбивает градус помпезности'):\n",
    "    print (\"Фраза 2 длиннее фразы 1\")\n",
    "elif len('Каждую статью проверяет редактор')>len ('Журналист сбивает градус помпезности'):\n",
    "    print (\"Фраза 1 длиннее фразы 2\")\n",
    "else:\n",
    "    print (\"Фразы равной длины\") "
   ]
  },
  {
   "cell_type": "code",
   "execution_count": 3,
   "metadata": {},
   "outputs": [],
   "source": [
    "#задание2\n",
    "\n",
    "year=2020"
   ]
  },
  {
   "cell_type": "code",
   "execution_count": 4,
   "metadata": {},
   "outputs": [
    {
     "name": "stdout",
     "output_type": "stream",
     "text": [
      "Високосный год\n"
     ]
    }
   ],
   "source": [
    "if (year%4==0) and (year%100!=0) or (year%400==0):\n",
    "    print ('Високосный год')\n",
    "else: \n",
    "    print ('Обычный год')\n",
    "    "
   ]
  },
  {
   "cell_type": "code",
   "execution_count": 5,
   "metadata": {},
   "outputs": [
    {
     "name": "stdout",
     "output_type": "stream",
     "text": [
      "Введите день рождения:21\n",
      "Введите месяц рождения:01\n",
      "Знак зодиака:Водолей\n"
     ]
    }
   ],
   "source": [
    "#задание3\n",
    "\n",
    "date=int(input(\"Введите день рождения:\"))\n",
    "\n",
    "month=int(input(\"Введите месяц рождения:\"))\n",
    "\n",
    "\n",
    "if (date>=21 and date<=31 and month==3) or( month==4 and date>=1 and date<=19):\n",
    "\n",
    "   print(\"Знак зодиака:Овен\")\n",
    "\n",
    "elif (date>=20 and date<=30 and month==4) or( month==5 and date>=1 and date<=20):\n",
    "\n",
    "   print(\"Знак зодиака:Телец\")\n",
    "\n",
    "elif (date>=21 and date<=31 and month==5) or( month==6 and date>=1 and date<=21):\n",
    "\n",
    "   print(\"Знак зодиака:Близнецы\")\n",
    "\n",
    "elif (date>=22 and date<=30 and month==6) or( month==7 and date>=1 and date<=22):\n",
    "\n",
    "   print(\"Знак зодиака:Рак\")\n",
    "\n",
    "elif (date>=23 and date<=31 and month==7) or( month==8 and date>=1 and date<=22):\n",
    "\n",
    "   print(\"Знак зодиака:Лев\")\n",
    "\n",
    "elif (date>=23 and date<=31 and month==8) or( month==9 and date>=1 and date<=22):\n",
    "\n",
    "   print(\"Знак зодиака:Дева\")\n",
    "\n",
    "elif (date>=23 and date<=30 and month==9) or( month==10 and date>=1 and date<=23):\n",
    "\n",
    "   print(\"Знак зодиака:Весы\")\n",
    "\n",
    "elif (date>=24 and date<=31 and month==10) or( month==11 and date>=1 and date<=22):\n",
    "\n",
    "   print(\"Знак зодиака:Скорпион\")\n",
    "\n",
    "elif (date>=23 and date<=30 and month==11) or( month==12 and date>=1 and date<=21):\n",
    "\n",
    "   print(\"Знак зодиака:Стрелец\")\n",
    "\n",
    "elif (date>=22 and date<=31 and month==12) or( month==1 and date>=1 and date<=20):\n",
    "\n",
    "   print(\"Знак зодиака:Козерог\")\n",
    "\n",
    "elif (date>=21 and date<=31 and month==1) or( month==2 and date>=1 and date<=18):\n",
    "\n",
    "   print(\"Знак зодиака:Водолей\")\n",
    "\n",
    "elif (date>=19 and date<=29 and month==2) or( month==3 and date>=1 and date<=20):\n",
    "\n",
    "   print(\"Знак зодиака:Рыбы\")"
   ]
  },
  {
   "cell_type": "code",
   "execution_count": 10,
   "metadata": {},
   "outputs": [
    {
     "name": "stdout",
     "output_type": "stream",
     "text": [
      "Упаковка для лыж\n"
     ]
    }
   ],
   "source": [
    "#задание4\n",
    "\n",
    "width = 10\n",
    "length = 210\n",
    "height = 5\n",
    "\n",
    "if (width<15) and (length<15) and (height<15):\n",
    "\n",
    "   print(\"Коробка №1\")\n",
    "\n",
    "elif (15<width<50) or (15<length<50) or (15<height<50):\n",
    "\n",
    "   print(\"Коробка №2\")\n",
    "\n",
    "elif length>200:\n",
    "\n",
    "   print(\"Упаковка для лыж\")\n",
    "else:\n",
    "    print (\"Стандартная упаковка\")"
   ]
  },
  {
   "cell_type": "code",
   "execution_count": 17,
   "metadata": {},
   "outputs": [
    {
     "name": "stdout",
     "output_type": "stream",
     "text": [
      "Счастливый билет\n"
     ]
    }
   ],
   "source": [
    "#задание5\n",
    "\n",
    "number = '223322'\n",
    "nums = [int(n) for n in number]\n",
    "if sum(nums[:3]) == sum(nums[-3:]):\n",
    "    print ('Счастливый билет')\n",
    "else:\n",
    "    print ('Несчастливый билет')"
   ]
  },
  {
   "cell_type": "code",
   "execution_count": 23,
   "metadata": {},
   "outputs": [
    {
     "name": "stdout",
     "output_type": "stream",
     "text": [
      "Введите название фигуры =треугольник\n",
      "Введите сторону a =5\n",
      "Введите сторону b =4\n",
      "Введите сторону c =7\n",
      "9.797958971132712\n"
     ]
    }
   ],
   "source": [
    "import math\n",
    "tip=str(input(\"Введите название фигуры =\"))\n",
    "if tip==\"треугольник\":   \n",
    "    a=float(input(\"Введите сторону a =\"))\n",
    "    b=float(input(\"Введите сторону b =\"))\n",
    "    c=float(input(\"Введите сторону c =\"))    \n",
    "    p=(a+b+c)/2    \n",
    "    s=math.sqrt((p*(p-a)*(p-b)*(p-c)))  \n",
    "elif tip==\"прямоугольник\":      \n",
    "    a=float(input(\"Введите сторону a =\"))\n",
    "    b=float(input(\"Введите сторону b =\"))\n",
    "    s=a*b\n",
    "elif tip==\"круг\":\n",
    "    r=float(input(\"Введите радиус r =\"))    \n",
    "    s=math.pi*(r**2)\n",
    "print(s)\n"
   ]
  },
  {
   "cell_type": "code",
   "execution_count": null,
   "metadata": {},
   "outputs": [],
   "source": []
  }
 ],
 "metadata": {
  "kernelspec": {
   "display_name": "Python 3",
   "language": "python",
   "name": "python3"
  },
  "language_info": {
   "codemirror_mode": {
    "name": "ipython",
    "version": 3
   },
   "file_extension": ".py",
   "mimetype": "text/x-python",
   "name": "python",
   "nbconvert_exporter": "python",
   "pygments_lexer": "ipython3",
   "version": "3.8.5"
  }
 },
 "nbformat": 4,
 "nbformat_minor": 4
}
