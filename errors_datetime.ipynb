{
 "cells": [
  {
   "cell_type": "code",
   "execution_count": 3,
   "metadata": {},
   "outputs": [
    {
     "name": "stdout",
     "output_type": "stream",
     "text": [
      "2002-10-02 00:00:00\n",
      "2013-10-11 00:00:00\n",
      "1977-08-18 00:00:00\n"
     ]
    }
   ],
   "source": [
    "#задание 1\n",
    "\n",
    "from datetime import datetime  \n",
    "\n",
    "MoscowTimes_time=datetime.strptime('Wednesday, October 2, 2002', '%A, %B %d, %Y')\n",
    "Guardian_time=datetime.strptime('Friday, 11.10.13', '%A, %d.%m.%y')\n",
    "DailyNews_time=datetime.strptime('Thursday, 18 August 1977', '%A, %d %B %Y')\n",
    "\n",
    "print(MoscowTimes_time)\n",
    "print(Guardian_time)\n",
    "print (DailyNews_time)"
   ]
  },
  {
   "cell_type": "code",
   "execution_count": 4,
   "metadata": {},
   "outputs": [
    {
     "name": "stdout",
     "output_type": "stream",
     "text": [
      "True\n",
      "False\n",
      "False\n"
     ]
    }
   ],
   "source": [
    "#задание 2\n",
    "\n",
    "stream = ['2018-04-02', '2018-02-29','2018-19-02']\n",
    "\n",
    "def check_date(any_date):\n",
    "    try:\n",
    "        datetime.strptime(any_date, '%Y-%m-%d')\n",
    "        return True\n",
    "    except ValueError:\n",
    "        return False\n",
    "for dt in stream:\n",
    "    print (check_date(dt))   "
   ]
  },
  {
   "cell_type": "code",
   "execution_count": 9,
   "metadata": {},
   "outputs": [
    {
     "name": "stdout",
     "output_type": "stream",
     "text": [
      "2021-01-01\n",
      "2021-01-02\n",
      "2021-01-03\n",
      "2021-01-04\n",
      "2021-01-05\n",
      "2021-01-06\n",
      "2021-01-07\n",
      "2021-01-08\n",
      "2021-01-09\n",
      "2021-01-10\n"
     ]
    }
   ],
   "source": [
    "#задание 3\n",
    "\n",
    "from datetime import timedelta\n",
    "\n",
    "start_date = '2021-01-01'\n",
    "end_date = '2021-01-11'\n",
    "\n",
    "start_date_dt = datetime.strptime(start_date, '%Y-%m-%d')\n",
    "end_date_dt = datetime.strptime(end_date, '%Y-%m-%d')\n",
    "\n",
    "def daterange(start_date_dt, end_date_dt):\n",
    "    for n in range(int((end_date_dt - start_date_dt).days)):\n",
    "        yield start_date_dt + timedelta(n)\n",
    "\n",
    "for single_date in daterange(start_date_dt, end_date_dt):\n",
    "    print (single_date.strftime('%Y-%m-%d'))"
   ]
  }
 ],
 "metadata": {
  "kernelspec": {
   "display_name": "Python 3",
   "language": "python",
   "name": "python3"
  },
  "language_info": {
   "codemirror_mode": {
    "name": "ipython",
    "version": 3
   },
   "file_extension": ".py",
   "mimetype": "text/x-python",
   "name": "python",
   "nbconvert_exporter": "python",
   "pygments_lexer": "ipython3",
   "version": "3.8.5"
  }
 },
 "nbformat": 4,
 "nbformat_minor": 4
}
