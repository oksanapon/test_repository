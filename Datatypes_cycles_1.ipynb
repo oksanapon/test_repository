{
 "cells": [
  {
   "cell_type": "code",
   "execution_count": 17,
   "metadata": {},
   "outputs": [
    {
     "name": "stdout",
     "output_type": "stream",
     "text": [
      "learning\n",
      "результат: rn\n"
     ]
    }
   ],
   "source": [
    "#задание 1\n",
    "\n",
    "word = 'learning'\n",
    "\n",
    "length_word = len (word)\n",
    "if length_word%2!=0:\n",
    "    print (word)\n",
    "    print ('результат:', word[int(length_word)//2]) \n",
    "elif length_word%2==0:\n",
    "    print (word)\n",
    "    print ('результат:', word[int(length_word)//2-1:int(length_word)//2+1])"
   ]
  },
  {
   "cell_type": "code",
   "execution_count": 53,
   "metadata": {},
   "outputs": [
    {
     "name": "stdout",
     "output_type": "stream",
     "text": [
      "Введите число1\n",
      "5\n",
      "7\n",
      "9\n",
      "12\n",
      "0\n",
      "Результат 34\n"
     ]
    }
   ],
   "source": [
    "#задание  2\n",
    "\n",
    "x = int(input('Введите число'))\n",
    "res = 0\n",
    "while x:\n",
    "    res += x\n",
    "    x = int(input())  \n",
    "print ('Результат',res)"
   ]
  },
  {
   "cell_type": "code",
   "execution_count": 52,
   "metadata": {},
   "outputs": [
    {
     "name": "stdout",
     "output_type": "stream",
     "text": [
      "Идеальные пары:\n",
      "Alex и Emma\n",
      "Arthur и Kate\n",
      "John и Kira\n",
      "Peter и Liza\n",
      "Richard и Trisha\n"
     ]
    }
   ],
   "source": [
    "#задание 3\n",
    "\n",
    "boys = ['Peter', 'Alex', 'John', 'Arthur', 'Richard']\n",
    "girls = ['Kate', 'Liza', 'Kira', 'Emma', 'Trisha']\n",
    "\n",
    "ideal_match = zip (sorted (boys), sorted (girls))\n",
    "\n",
    "if len (boys) == len (girls):\n",
    "    print ('Идеальные пары:')\n",
    "    for pair in ideal_match:\n",
    "        print (f'{pair[0]} и {pair[1]}')\n",
    "else:\n",
    "    print ('Внимание, кто-то может остаться без пары!')  "
   ]
  },
  {
   "cell_type": "code",
   "execution_count": 67,
   "metadata": {},
   "outputs": [
    {
     "name": "stdout",
     "output_type": "stream",
     "text": [
      "Средняя температура в странах:\n",
      "Thailand - 23 C\n",
      "Средняя температура в странах:\n",
      "Germany - 13 C\n",
      "Средняя температура в странах:\n",
      "Russia - 3 C\n",
      "Средняя температура в странах:\n",
      "Poland - 11 C\n"
     ]
    }
   ],
   "source": [
    "#задание 4\n",
    "\n",
    "countries_temperature = [\n",
    "['Thailand', [75.2, 77, 78.8, 73.4, 68, 75.2, 77]],\n",
    "['Germany', [57.2, 55.4, 59, 59, 53.6]],\n",
    "['Russia', [35.6, 37.4, 39.2, 41, 42.8, 39.2, 35.6]],\n",
    "['Poland', [50, 50, 53.6, 57.2, 55.4, 55.4]]\n",
    "]\n",
    "\n",
    "total = 0.0\n",
    "average_temp = 0.0\n",
    "celcium = 0.0\n",
    "    \n",
    "for country in countries_temperature:\n",
    "    total = sum (country [1])\n",
    "    average_temp = total/len (country [1])\n",
    "    celcium = int (5/9 * (average_temp - 32))\n",
    "    print ('Средняя температура в странах:')\n",
    "    print (country [0], '-', celcium, 'C')\n"
   ]
  },
  {
   "cell_type": "code",
   "execution_count": null,
   "metadata": {},
   "outputs": [],
   "source": []
  }
 ],
 "metadata": {
  "kernelspec": {
   "display_name": "Python 3",
   "language": "python",
   "name": "python3"
  },
  "language_info": {
   "codemirror_mode": {
    "name": "ipython",
    "version": 3
   },
   "file_extension": ".py",
   "mimetype": "text/x-python",
   "name": "python",
   "nbconvert_exporter": "python",
   "pygments_lexer": "ipython3",
   "version": "3.8.5"
  }
 },
 "nbformat": 4,
 "nbformat_minor": 4
}
