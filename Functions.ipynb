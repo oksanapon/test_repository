{
 "cells": [
  {
   "cell_type": "code",
   "execution_count": null,
   "metadata": {},
   "outputs": [],
   "source": [
    "#перечень всех документов\n",
    "documents = [\n",
    "{'type': 'passport', 'number': '2207 876234', 'name': 'Василий Гупкин'},\n",
    "{'type': 'invoice', 'number': '11-2', 'name': 'Геннадий Покемонов'},\n",
    "{'type': 'insurance', 'number': '10006','name': 'Аристарх Павлов'}\n",
    "]\n",
    "\n",
    "#перечень полок, на которых хранятся документы если документ есть в documents, то он обязательно должен быть и в directories\n",
    "\n",
    "directories = {\n",
    "'1': ['2207 876234', '11-2'],\n",
    "'2': ['10006'],\n",
    "'3': []\n",
    "} "
   ]
  },
  {
   "cell_type": "code",
   "execution_count": 66,
   "metadata": {},
   "outputs": [
    {
     "name": "stdout",
     "output_type": "stream",
     "text": [
      "Введите команду:p\n",
      "Введите номер документа:10006\n",
      "Владелец документа: Аристарх Павлов\n"
     ]
    }
   ],
   "source": [
    "#Пункт 1. Пользователь по команде \"p\" может узнать владельца документа по его номеру\n",
    "\n",
    "user_input = input(\"Введите команду:\")\n",
    "def p():\n",
    "    found = False\n",
    "    num = input(\"Введите номер документа:\")\n",
    "    for dic in documents:\n",
    "        if \"number\" in dic.keys() and dic[\"number\"] == num:\n",
    "            print(\"Владелец документа:\", dic[\"name\"])\n",
    "            found = True\n",
    "\n",
    "    if not found:\n",
    "        print(\"Документ не найден в базе\")\n",
    "\n",
    "p() "
   ]
  },
  {
   "cell_type": "code",
   "execution_count": 60,
   "metadata": {},
   "outputs": [
    {
     "name": "stdout",
     "output_type": "stream",
     "text": [
      "Введите команду:s\n",
      "Введите номер документа:10006\n",
      "Документ хранится на полке: 2\n"
     ]
    }
   ],
   "source": [
    "#Пункт 2. Пользователь по команде “s” может по номеру документа узнать на какой полке он хранится\n",
    "\n",
    "user_input = input(\"Введите команду:\")\n",
    "def s():\n",
    "    found = False\n",
    "    num = input(\"Введите номер документа:\")\n",
    "    for shelf_directories in directories.items():\n",
    "        for doc_numbers in shelf_directories[1]:\n",
    "            if doc_numbers == num:\n",
    "                print (\"Документ хранится на полке:\",shelf_directories[0])\n",
    "                found = True\n",
    "                \n",
    "    if not found:\n",
    "        print (\"Документ не найден в базе\")\n",
    "        \n",
    "s()\n",
    "    "
   ]
  },
  {
   "cell_type": "code",
   "execution_count": 97,
   "metadata": {},
   "outputs": [
    {
     "name": "stdout",
     "output_type": "stream",
     "text": [
      "Введите команду:l\n",
      "№: 2207 876234, тип:passport, владелец:Василий Гупкин, полка хранения: 1\n",
      "№: 11-2, тип:invoice, владелец:Геннадий Покемонов, полка хранения: 1\n",
      "№: 10006, тип:insurance, владелец:Аристарх Павлов, полка хранения: 2\n"
     ]
    }
   ],
   "source": [
    "#Пункт 3. Пользователь по команде “l” может увидеть полную информацию по всем документам\n",
    "\n",
    "user_input = input(\"Введите команду:\")\n",
    "def l():\n",
    "    for shelf in directories:\n",
    "        for num in directories[shelf]:\n",
    "            found = next(e for e in documents if e['number']==num)\n",
    "            print(f'№: {num}, тип:{found[\"type\"]}, владелец:{found[\"name\"]}, полка хранения: {shelf}')\n",
    "                          \n",
    "l()       "
   ]
  },
  {
   "cell_type": "code",
   "execution_count": 146,
   "metadata": {},
   "outputs": [
    {
     "name": "stdout",
     "output_type": "stream",
     "text": [
      "Введите команду:ads\n",
      "Введите номер полки:11\n",
      "Полка добавлена. Текущий перечень полок: ['1', '2', '3', '10', '11']\n"
     ]
    }
   ],
   "source": [
    "#Пункт 4. Пользователь по команде \"ads\" может добавить новую полку\n",
    "\n",
    "user_input = input(\"Введите команду:\")\n",
    "def ads():\n",
    "    shelf = input(\"Введите номер полки:\")\n",
    "    for direct in directories.items():\n",
    "        if shelf in direct[0]:\n",
    "            print(f\"Такая полка уже существует. Текущий перечень полок: {list(directories.keys())}\")\n",
    "\n",
    "            break\n",
    "    else:\n",
    "        directories[shelf] = []\n",
    "        print(f\"Полка добавлена. Текущий перечень полок: {list(directories.keys())}\")       \n",
    "ads()\n"
   ]
  },
  {
   "cell_type": "code",
   "execution_count": 153,
   "metadata": {},
   "outputs": [
    {
     "name": "stdout",
     "output_type": "stream",
     "text": [
      "Введите команду:ds\n",
      "Введите номер полки:2\n",
      "На полке есть документы, удалите их перед удалением полки. Текущий перечень полок:['1', '2', '3']\n"
     ]
    }
   ],
   "source": [
    "#Пункт 5. Пользователь по команде \"ds\" может удалить существующую полку из данных (только если она пустая)\n",
    "\n",
    "user_input = input(\"Введите команду:\")\n",
    "def ds():\n",
    "    shelf = input(\"Введите номер полки:\")\n",
    "    if shelf not in directories.keys():\n",
    "        print(f\"Такой полки не существует. Текущий перечень полок:{list(directories.keys())}\")\n",
    "    elif len (directories[shelf]) > 0:\n",
    "        print (f\"На полке есть документы, удалите их перед удалением полки. Текущий перечень полок:{list(directories.keys())}\")\n",
    "    else:\n",
    "        del(directories[shelf])\n",
    "        print(f\"Полка удалена. Текущий перечень полок:{list(directories.keys())}\")\n",
    "ds()    \n",
    "   "
   ]
  },
  {
   "cell_type": "code",
   "execution_count": null,
   "metadata": {},
   "outputs": [],
   "source": []
  }
 ],
 "metadata": {
  "kernelspec": {
   "display_name": "Python 3",
   "language": "python",
   "name": "python3"
  }
 },
 "nbformat": 4,
 "nbformat_minor": 4
}
